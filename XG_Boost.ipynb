{
 "cells": [
  {
   "cell_type": "code",
   "execution_count": 1,
   "id": "4b28b4cb",
   "metadata": {},
   "outputs": [
    {
     "name": "stderr",
     "output_type": "stream",
     "text": [
      "C:\\Users\\jayku\\anaconda3\\lib\\site-packages\\xgboost\\compat.py:36: FutureWarning: pandas.Int64Index is deprecated and will be removed from pandas in a future version. Use pandas.Index with the appropriate dtype instead.\n",
      "  from pandas import MultiIndex, Int64Index\n"
     ]
    }
   ],
   "source": [
    "import pandas as pd\n",
    "import numpy as np\n",
    "import matplotlib.pyplot as plt\n",
    "%matplotlib inline\n",
    "import seaborn as sns\n",
    "Color_pal = sns.color_palette()\n",
    "import xgboost as Xg\n",
    "from sklearn.metrics import mean_squared_error\n",
    "import warnings\n",
    "warnings.filterwarnings('ignore')"
   ]
  },
  {
   "cell_type": "code",
   "execution_count": 2,
   "id": "5a23f7e6",
   "metadata": {},
   "outputs": [],
   "source": [
    "# Bitcoin\n",
    "BTC = pd.read_csv('archive crypto/coin_Bitcoin.csv')\n",
    "BTC['Date']= pd.to_datetime(BTC['Date']).dt.date\n",
    "BTC.rename(columns={'Close':'BTC_Close','Volume':'BTC_Volume'}, inplace= True)\n",
    "\n",
    "# Ethereum\n",
    "ETH = pd.read_csv('archive crypto/coin_Ethereum.csv')\n",
    "ETH['Date']= pd.to_datetime(ETH['Date']).dt.date\n",
    "ETH.rename(columns={'Close':'ETH_Close','Volume':'ETH_Volume'}, inplace= True)\n",
    "\n",
    "\n",
    "#Binance Coin\n",
    "BNB = pd.read_csv('archive crypto/coin_BinanceCoin.csv')\n",
    "BNB['Date']= pd.to_datetime(BNB['Date']).dt.date\n",
    "BNB.rename(columns={'Close':'BNB_Close','Volume':'BNB_Volume'}, inplace= True)\n"
   ]
  },
  {
   "cell_type": "code",
   "execution_count": 3,
   "id": "6c378795",
   "metadata": {},
   "outputs": [
    {
     "data": {
      "text/html": [
       "<div>\n",
       "<style scoped>\n",
       "    .dataframe tbody tr th:only-of-type {\n",
       "        vertical-align: middle;\n",
       "    }\n",
       "\n",
       "    .dataframe tbody tr th {\n",
       "        vertical-align: top;\n",
       "    }\n",
       "\n",
       "    .dataframe thead th {\n",
       "        text-align: right;\n",
       "    }\n",
       "</style>\n",
       "<table border=\"1\" class=\"dataframe\">\n",
       "  <thead>\n",
       "    <tr style=\"text-align: right;\">\n",
       "      <th></th>\n",
       "      <th>Date</th>\n",
       "      <th>BTC_Close</th>\n",
       "    </tr>\n",
       "  </thead>\n",
       "  <tbody>\n",
       "    <tr>\n",
       "      <th>0</th>\n",
       "      <td>2013-04-29</td>\n",
       "      <td>144.539993</td>\n",
       "    </tr>\n",
       "    <tr>\n",
       "      <th>1</th>\n",
       "      <td>2013-04-30</td>\n",
       "      <td>139.000000</td>\n",
       "    </tr>\n",
       "    <tr>\n",
       "      <th>2</th>\n",
       "      <td>2013-05-01</td>\n",
       "      <td>116.989998</td>\n",
       "    </tr>\n",
       "    <tr>\n",
       "      <th>3</th>\n",
       "      <td>2013-05-02</td>\n",
       "      <td>105.209999</td>\n",
       "    </tr>\n",
       "    <tr>\n",
       "      <th>4</th>\n",
       "      <td>2013-05-03</td>\n",
       "      <td>97.750000</td>\n",
       "    </tr>\n",
       "  </tbody>\n",
       "</table>\n",
       "</div>"
      ],
      "text/plain": [
       "         Date   BTC_Close\n",
       "0  2013-04-29  144.539993\n",
       "1  2013-04-30  139.000000\n",
       "2  2013-05-01  116.989998\n",
       "3  2013-05-02  105.209999\n",
       "4  2013-05-03   97.750000"
      ]
     },
     "execution_count": 3,
     "metadata": {},
     "output_type": "execute_result"
    }
   ],
   "source": [
    "df = BTC.copy()\n",
    "# Bitcoin = Bitcoin.set_index('Date')\n",
    "df = df[['Date','BTC_Close']]\n",
    "df.head()"
   ]
  },
  {
   "cell_type": "code",
   "execution_count": 4,
   "id": "d94c3d0c",
   "metadata": {},
   "outputs": [
    {
     "data": {
      "text/html": [
       "<div>\n",
       "<style scoped>\n",
       "    .dataframe tbody tr th:only-of-type {\n",
       "        vertical-align: middle;\n",
       "    }\n",
       "\n",
       "    .dataframe tbody tr th {\n",
       "        vertical-align: top;\n",
       "    }\n",
       "\n",
       "    .dataframe thead th {\n",
       "        text-align: right;\n",
       "    }\n",
       "</style>\n",
       "<table border=\"1\" class=\"dataframe\">\n",
       "  <thead>\n",
       "    <tr style=\"text-align: right;\">\n",
       "      <th></th>\n",
       "      <th>BTC_Close</th>\n",
       "    </tr>\n",
       "    <tr>\n",
       "      <th>Date</th>\n",
       "      <th></th>\n",
       "    </tr>\n",
       "  </thead>\n",
       "  <tbody>\n",
       "    <tr>\n",
       "      <th>2013-04-29</th>\n",
       "      <td>144.539993</td>\n",
       "    </tr>\n",
       "    <tr>\n",
       "      <th>2013-04-30</th>\n",
       "      <td>139.000000</td>\n",
       "    </tr>\n",
       "    <tr>\n",
       "      <th>2013-05-01</th>\n",
       "      <td>116.989998</td>\n",
       "    </tr>\n",
       "    <tr>\n",
       "      <th>2013-05-02</th>\n",
       "      <td>105.209999</td>\n",
       "    </tr>\n",
       "    <tr>\n",
       "      <th>2013-05-03</th>\n",
       "      <td>97.750000</td>\n",
       "    </tr>\n",
       "  </tbody>\n",
       "</table>\n",
       "</div>"
      ],
      "text/plain": [
       "             BTC_Close\n",
       "Date                  \n",
       "2013-04-29  144.539993\n",
       "2013-04-30  139.000000\n",
       "2013-05-01  116.989998\n",
       "2013-05-02  105.209999\n",
       "2013-05-03   97.750000"
      ]
     },
     "execution_count": 4,
     "metadata": {},
     "output_type": "execute_result"
    }
   ],
   "source": [
    "df = df.set_index('Date')\n",
    "\n",
    "df.head()"
   ]
  },
  {
   "cell_type": "code",
   "execution_count": 5,
   "id": "45f43365",
   "metadata": {},
   "outputs": [],
   "source": [
    "df.index= pd.to_datetime(df.index)"
   ]
  },
  {
   "cell_type": "code",
   "execution_count": 6,
   "id": "c227698f",
   "metadata": {},
   "outputs": [
    {
     "data": {
      "text/html": [
       "<div>\n",
       "<style scoped>\n",
       "    .dataframe tbody tr th:only-of-type {\n",
       "        vertical-align: middle;\n",
       "    }\n",
       "\n",
       "    .dataframe tbody tr th {\n",
       "        vertical-align: top;\n",
       "    }\n",
       "\n",
       "    .dataframe thead th {\n",
       "        text-align: right;\n",
       "    }\n",
       "</style>\n",
       "<table border=\"1\" class=\"dataframe\">\n",
       "  <thead>\n",
       "    <tr style=\"text-align: right;\">\n",
       "      <th></th>\n",
       "      <th>BTC_Close</th>\n",
       "    </tr>\n",
       "    <tr>\n",
       "      <th>Date</th>\n",
       "      <th></th>\n",
       "    </tr>\n",
       "  </thead>\n",
       "  <tbody>\n",
       "    <tr>\n",
       "      <th>2013-04-29</th>\n",
       "      <td>144.539993</td>\n",
       "    </tr>\n",
       "    <tr>\n",
       "      <th>2013-04-30</th>\n",
       "      <td>139.000000</td>\n",
       "    </tr>\n",
       "    <tr>\n",
       "      <th>2013-05-01</th>\n",
       "      <td>116.989998</td>\n",
       "    </tr>\n",
       "    <tr>\n",
       "      <th>2013-05-02</th>\n",
       "      <td>105.209999</td>\n",
       "    </tr>\n",
       "    <tr>\n",
       "      <th>2013-05-03</th>\n",
       "      <td>97.750000</td>\n",
       "    </tr>\n",
       "  </tbody>\n",
       "</table>\n",
       "</div>"
      ],
      "text/plain": [
       "             BTC_Close\n",
       "Date                  \n",
       "2013-04-29  144.539993\n",
       "2013-04-30  139.000000\n",
       "2013-05-01  116.989998\n",
       "2013-05-02  105.209999\n",
       "2013-05-03   97.750000"
      ]
     },
     "execution_count": 6,
     "metadata": {},
     "output_type": "execute_result"
    }
   ],
   "source": [
    "df.head()"
   ]
  },
  {
   "cell_type": "code",
   "execution_count": 7,
   "id": "f5817b1f",
   "metadata": {},
   "outputs": [
    {
     "data": {
      "image/png": "[encoded data removed]",
      "text/plain": [
       "<Figure size 1080x360 with 1 Axes>"
      ]
     },
     "metadata": {
      "needs_background": "light"
     },
     "output_type": "display_data"
    }
   ],
   "source": [
    "# Bitcoin = Bitcoin.set_index('Date')\n",
    "df.plot(style = '-', figsize = (15,5),color = Color_pal[0],title = 'Bitcoin Historical Price')\n",
    "plt.show()"
   ]
  },
  {
   "cell_type": "markdown",
   "id": "eb67b48c",
   "metadata": {},
   "source": [
    " ### Train / Test Split"
   ]
  },
  {
   "cell_type": "code",
   "execution_count": 8,
   "id": "285d3b15",
   "metadata": {},
   "outputs": [
    {
     "name": "stdout",
     "output_type": "stream",
     "text": [
      "(2991, 1)\n",
      "(2891, 1) (100, 1)\n"
     ]
    }
   ],
   "source": [
    "\n",
    "print(df.shape)\n",
    "train = df.iloc[:-100]\n",
    "test = df.iloc[-100:]\n",
    "print(train.shape,test.shape)"
   ]
  },
  {
   "cell_type": "code",
   "execution_count": 9,
   "id": "5d7951ea",
   "metadata": {},
   "outputs": [
    {
     "data": {
      "text/html": [
       "<div>\n",
       "<style scoped>\n",
       "    .dataframe tbody tr th:only-of-type {\n",
       "        vertical-align: middle;\n",
       "    }\n",
       "\n",
       "    .dataframe tbody tr th {\n",
       "        vertical-align: top;\n",
       "    }\n",
       "\n",
       "    .dataframe thead th {\n",
       "        text-align: right;\n",
       "    }\n",
       "</style>\n",
       "<table border=\"1\" class=\"dataframe\">\n",
       "  <thead>\n",
       "    <tr style=\"text-align: right;\">\n",
       "      <th></th>\n",
       "      <th>BTC_Close</th>\n",
       "    </tr>\n",
       "    <tr>\n",
       "      <th>Date</th>\n",
       "      <th></th>\n",
       "    </tr>\n",
       "  </thead>\n",
       "  <tbody>\n",
       "    <tr>\n",
       "      <th>2013-04-29</th>\n",
       "      <td>144.539993</td>\n",
       "    </tr>\n",
       "    <tr>\n",
       "      <th>2013-04-30</th>\n",
       "      <td>139.000000</td>\n",
       "    </tr>\n",
       "    <tr>\n",
       "      <th>2013-05-01</th>\n",
       "      <td>116.989998</td>\n",
       "    </tr>\n",
       "    <tr>\n",
       "      <th>2013-05-02</th>\n",
       "      <td>105.209999</td>\n",
       "    </tr>\n",
       "    <tr>\n",
       "      <th>2013-05-03</th>\n",
       "      <td>97.750000</td>\n",
       "    </tr>\n",
       "  </tbody>\n",
       "</table>\n",
       "</div>"
      ],
      "text/plain": [
       "             BTC_Close\n",
       "Date                  \n",
       "2013-04-29  144.539993\n",
       "2013-04-30  139.000000\n",
       "2013-05-01  116.989998\n",
       "2013-05-02  105.209999\n",
       "2013-05-03   97.750000"
      ]
     },
     "execution_count": 9,
     "metadata": {},
     "output_type": "execute_result"
    }
   ],
   "source": [
    "train.head()"
   ]
  },
  {
   "cell_type": "code",
   "execution_count": 10,
   "id": "cf29e79f",
   "metadata": {},
   "outputs": [
    {
     "data": {
      "text/html": [
       "<div>\n",
       "<style scoped>\n",
       "    .dataframe tbody tr th:only-of-type {\n",
       "        vertical-align: middle;\n",
       "    }\n",
       "\n",
       "    .dataframe tbody tr th {\n",
       "        vertical-align: top;\n",
       "    }\n",
       "\n",
       "    .dataframe thead th {\n",
       "        text-align: right;\n",
       "    }\n",
       "</style>\n",
       "<table border=\"1\" class=\"dataframe\">\n",
       "  <thead>\n",
       "    <tr style=\"text-align: right;\">\n",
       "      <th></th>\n",
       "      <th>BTC_Close</th>\n",
       "    </tr>\n",
       "    <tr>\n",
       "      <th>Date</th>\n",
       "      <th></th>\n",
       "    </tr>\n",
       "  </thead>\n",
       "  <tbody>\n",
       "    <tr>\n",
       "      <th>2021-03-29</th>\n",
       "      <td>57750.199871</td>\n",
       "    </tr>\n",
       "    <tr>\n",
       "      <th>2021-03-30</th>\n",
       "      <td>58917.693045</td>\n",
       "    </tr>\n",
       "    <tr>\n",
       "      <th>2021-03-31</th>\n",
       "      <td>58918.832714</td>\n",
       "    </tr>\n",
       "    <tr>\n",
       "      <th>2021-04-01</th>\n",
       "      <td>59095.807978</td>\n",
       "    </tr>\n",
       "    <tr>\n",
       "      <th>2021-04-02</th>\n",
       "      <td>59384.313359</td>\n",
       "    </tr>\n",
       "  </tbody>\n",
       "</table>\n",
       "</div>"
      ],
      "text/plain": [
       "               BTC_Close\n",
       "Date                    \n",
       "2021-03-29  57750.199871\n",
       "2021-03-30  58917.693045\n",
       "2021-03-31  58918.832714\n",
       "2021-04-01  59095.807978\n",
       "2021-04-02  59384.313359"
      ]
     },
     "execution_count": 10,
     "metadata": {},
     "output_type": "execute_result"
    }
   ],
   "source": [
    "test.head()"
   ]
  },
  {
   "cell_type": "code",
   "execution_count": 11,
   "id": "1e859e1f",
   "metadata": {},
   "outputs": [
    {
     "data": {
      "text/plain": [
       "<AxesSubplot:xlabel='Date'>"
      ]
     },
     "execution_count": 11,
     "metadata": {},
     "output_type": "execute_result"
    },
    {
     "data": {
      "image/png": "[encoded data removed]",
      "text/plain": [
       "<Figure size 432x288 with 1 Axes>"
      ]
     },
     "metadata": {
      "needs_background": "light"
     },
     "output_type": "display_data"
    }
   ],
   "source": [
    "df.loc[(df.index>'2020-07-02') & (df.index <'2020-07-10')].plot()"
   ]
  },
  {
   "cell_type": "markdown",
   "id": "64a46ac4",
   "metadata": {},
   "source": [
    "## Feature Creation\n"
   ]
  },
  {
   "cell_type": "code",
   "execution_count": 12,
   "id": "9fe1e2a5",
   "metadata": {},
   "outputs": [],
   "source": [
    "def create_features(df):\n",
    "    \"\"\"\n",
    "    Create Time series features based on index.\n",
    "    \"\"\"\n",
    "    df = df.copy()\n",
    "    df['Dayofweek'] = df.index.day_of_week\n",
    "    df ['Quater']= df.index.quarter\n",
    "    df ['Month']= df.index.month\n",
    "    df ['Year'] = df.index.year\n",
    "    df ['Dayofyear'] = df.index.dayofyear\n",
    "\n",
    "    return df"
   ]
  },
  {
   "cell_type": "code",
   "execution_count": 13,
   "id": "d56bc3c0",
   "metadata": {},
   "outputs": [],
   "source": [
    "df = create_features(df)"
   ]
  },
  {
   "cell_type": "code",
   "execution_count": 14,
   "id": "abc48dab",
   "metadata": {},
   "outputs": [
    {
     "data": {
      "text/html": [
       "<div>\n",
       "<style scoped>\n",
       "    .dataframe tbody tr th:only-of-type {\n",
       "        vertical-align: middle;\n",
       "    }\n",
       "\n",
       "    .dataframe tbody tr th {\n",
       "        vertical-align: top;\n",
       "    }\n",
       "\n",
       "    .dataframe thead th {\n",
       "        text-align: right;\n",
       "    }\n",
       "</style>\n",
       "<table border=\"1\" class=\"dataframe\">\n",
       "  <thead>\n",
       "    <tr style=\"text-align: right;\">\n",
       "      <th></th>\n",
       "      <th>BTC_Close</th>\n",
       "      <th>Dayofweek</th>\n",
       "      <th>Quater</th>\n",
       "      <th>Month</th>\n",
       "      <th>Year</th>\n",
       "      <th>Dayofyear</th>\n",
       "    </tr>\n",
       "    <tr>\n",
       "      <th>Date</th>\n",
       "      <th></th>\n",
       "      <th></th>\n",
       "      <th></th>\n",
       "      <th></th>\n",
       "      <th></th>\n",
       "      <th></th>\n",
       "    </tr>\n",
       "  </thead>\n",
       "  <tbody>\n",
       "    <tr>\n",
       "      <th>2013-04-29</th>\n",
       "      <td>144.539993</td>\n",
       "      <td>0</td>\n",
       "      <td>2</td>\n",
       "      <td>4</td>\n",
       "      <td>2013</td>\n",
       "      <td>119</td>\n",
       "    </tr>\n",
       "    <tr>\n",
       "      <th>2013-04-30</th>\n",
       "      <td>139.000000</td>\n",
       "      <td>1</td>\n",
       "      <td>2</td>\n",
       "      <td>4</td>\n",
       "      <td>2013</td>\n",
       "      <td>120</td>\n",
       "    </tr>\n",
       "    <tr>\n",
       "      <th>2013-05-01</th>\n",
       "      <td>116.989998</td>\n",
       "      <td>2</td>\n",
       "      <td>2</td>\n",
       "      <td>5</td>\n",
       "      <td>2013</td>\n",
       "      <td>121</td>\n",
       "    </tr>\n",
       "    <tr>\n",
       "      <th>2013-05-02</th>\n",
       "      <td>105.209999</td>\n",
       "      <td>3</td>\n",
       "      <td>2</td>\n",
       "      <td>5</td>\n",
       "      <td>2013</td>\n",
       "      <td>122</td>\n",
       "    </tr>\n",
       "    <tr>\n",
       "      <th>2013-05-03</th>\n",
       "      <td>97.750000</td>\n",
       "      <td>4</td>\n",
       "      <td>2</td>\n",
       "      <td>5</td>\n",
       "      <td>2013</td>\n",
       "      <td>123</td>\n",
       "    </tr>\n",
       "    <tr>\n",
       "      <th>...</th>\n",
       "      <td>...</td>\n",
       "      <td>...</td>\n",
       "      <td>...</td>\n",
       "      <td>...</td>\n",
       "      <td>...</td>\n",
       "      <td>...</td>\n",
       "    </tr>\n",
       "    <tr>\n",
       "      <th>2021-07-02</th>\n",
       "      <td>33897.048590</td>\n",
       "      <td>4</td>\n",
       "      <td>3</td>\n",
       "      <td>7</td>\n",
       "      <td>2021</td>\n",
       "      <td>183</td>\n",
       "    </tr>\n",
       "    <tr>\n",
       "      <th>2021-07-03</th>\n",
       "      <td>34668.548402</td>\n",
       "      <td>5</td>\n",
       "      <td>3</td>\n",
       "      <td>7</td>\n",
       "      <td>2021</td>\n",
       "      <td>184</td>\n",
       "    </tr>\n",
       "    <tr>\n",
       "      <th>2021-07-04</th>\n",
       "      <td>35287.779766</td>\n",
       "      <td>6</td>\n",
       "      <td>3</td>\n",
       "      <td>7</td>\n",
       "      <td>2021</td>\n",
       "      <td>185</td>\n",
       "    </tr>\n",
       "    <tr>\n",
       "      <th>2021-07-05</th>\n",
       "      <td>33746.002456</td>\n",
       "      <td>0</td>\n",
       "      <td>3</td>\n",
       "      <td>7</td>\n",
       "      <td>2021</td>\n",
       "      <td>186</td>\n",
       "    </tr>\n",
       "    <tr>\n",
       "      <th>2021-07-06</th>\n",
       "      <td>34235.193451</td>\n",
       "      <td>1</td>\n",
       "      <td>3</td>\n",
       "      <td>7</td>\n",
       "      <td>2021</td>\n",
       "      <td>187</td>\n",
       "    </tr>\n",
       "  </tbody>\n",
       "</table>\n",
       "<p>2991 rows × 6 columns</p>\n",
       "</div>"
      ],
      "text/plain": [
       "               BTC_Close  Dayofweek  Quater  Month  Year  Dayofyear\n",
       "Date                                                               \n",
       "2013-04-29    144.539993          0       2      4  2013        119\n",
       "2013-04-30    139.000000          1       2      4  2013        120\n",
       "2013-05-01    116.989998          2       2      5  2013        121\n",
       "2013-05-02    105.209999          3       2      5  2013        122\n",
       "2013-05-03     97.750000          4       2      5  2013        123\n",
       "...                  ...        ...     ...    ...   ...        ...\n",
       "2021-07-02  33897.048590          4       3      7  2021        183\n",
       "2021-07-03  34668.548402          5       3      7  2021        184\n",
       "2021-07-04  35287.779766          6       3      7  2021        185\n",
       "2021-07-05  33746.002456          0       3      7  2021        186\n",
       "2021-07-06  34235.193451          1       3      7  2021        187\n",
       "\n",
       "[2991 rows x 6 columns]"
      ]
     },
     "execution_count": 14,
     "metadata": {},
     "output_type": "execute_result"
    }
   ],
   "source": [
    "df"
   ]
  },
  {
   "cell_type": "markdown",
   "id": "6f3de12c",
   "metadata": {},
   "source": [
    "- Visual fetures"
   ]
  },
  {
   "cell_type": "code",
   "execution_count": 15,
   "id": "750db852",
   "metadata": {},
   "outputs": [],
   "source": [
    "# fig,ax = plt.subplot()\n",
    "# sns.boxenplot(data = df, x = 'Month',y = 'BTC_Close')\n",
    "# ax.set_title('Price by month')"
   ]
  },
  {
   "cell_type": "code",
   "execution_count": 16,
   "id": "c57048ed",
   "metadata": {},
   "outputs": [],
   "source": [
    "train = create_features(train)\n",
    "test = create_features(test)\n",
    "features = ['Dayofweek', 'Quater', 'Month', 'Year', 'Dayofyear']\n",
    "target = ['BTC_Close']"
   ]
  },
  {
   "cell_type": "code",
   "execution_count": 17,
   "id": "2fc00172",
   "metadata": {},
   "outputs": [
    {
     "data": {
      "text/html": [
       "<div>\n",
       "<style scoped>\n",
       "    .dataframe tbody tr th:only-of-type {\n",
       "        vertical-align: middle;\n",
       "    }\n",
       "\n",
       "    .dataframe tbody tr th {\n",
       "        vertical-align: top;\n",
       "    }\n",
       "\n",
       "    .dataframe thead th {\n",
       "        text-align: right;\n",
       "    }\n",
       "</style>\n",
       "<table border=\"1\" class=\"dataframe\">\n",
       "  <thead>\n",
       "    <tr style=\"text-align: right;\">\n",
       "      <th></th>\n",
       "      <th>BTC_Close</th>\n",
       "      <th>Dayofweek</th>\n",
       "      <th>Quater</th>\n",
       "      <th>Month</th>\n",
       "      <th>Year</th>\n",
       "      <th>Dayofyear</th>\n",
       "    </tr>\n",
       "    <tr>\n",
       "      <th>Date</th>\n",
       "      <th></th>\n",
       "      <th></th>\n",
       "      <th></th>\n",
       "      <th></th>\n",
       "      <th></th>\n",
       "      <th></th>\n",
       "    </tr>\n",
       "  </thead>\n",
       "  <tbody>\n",
       "    <tr>\n",
       "      <th>2021-03-29</th>\n",
       "      <td>57750.199871</td>\n",
       "      <td>0</td>\n",
       "      <td>1</td>\n",
       "      <td>3</td>\n",
       "      <td>2021</td>\n",
       "      <td>88</td>\n",
       "    </tr>\n",
       "    <tr>\n",
       "      <th>2021-03-30</th>\n",
       "      <td>58917.693045</td>\n",
       "      <td>1</td>\n",
       "      <td>1</td>\n",
       "      <td>3</td>\n",
       "      <td>2021</td>\n",
       "      <td>89</td>\n",
       "    </tr>\n",
       "    <tr>\n",
       "      <th>2021-03-31</th>\n",
       "      <td>58918.832714</td>\n",
       "      <td>2</td>\n",
       "      <td>1</td>\n",
       "      <td>3</td>\n",
       "      <td>2021</td>\n",
       "      <td>90</td>\n",
       "    </tr>\n",
       "    <tr>\n",
       "      <th>2021-04-01</th>\n",
       "      <td>59095.807978</td>\n",
       "      <td>3</td>\n",
       "      <td>2</td>\n",
       "      <td>4</td>\n",
       "      <td>2021</td>\n",
       "      <td>91</td>\n",
       "    </tr>\n",
       "    <tr>\n",
       "      <th>2021-04-02</th>\n",
       "      <td>59384.313359</td>\n",
       "      <td>4</td>\n",
       "      <td>2</td>\n",
       "      <td>4</td>\n",
       "      <td>2021</td>\n",
       "      <td>92</td>\n",
       "    </tr>\n",
       "    <tr>\n",
       "      <th>...</th>\n",
       "      <td>...</td>\n",
       "      <td>...</td>\n",
       "      <td>...</td>\n",
       "      <td>...</td>\n",
       "      <td>...</td>\n",
       "      <td>...</td>\n",
       "    </tr>\n",
       "    <tr>\n",
       "      <th>2021-07-02</th>\n",
       "      <td>33897.048590</td>\n",
       "      <td>4</td>\n",
       "      <td>3</td>\n",
       "      <td>7</td>\n",
       "      <td>2021</td>\n",
       "      <td>183</td>\n",
       "    </tr>\n",
       "    <tr>\n",
       "      <th>2021-07-03</th>\n",
       "      <td>34668.548402</td>\n",
       "      <td>5</td>\n",
       "      <td>3</td>\n",
       "      <td>7</td>\n",
       "      <td>2021</td>\n",
       "      <td>184</td>\n",
       "    </tr>\n",
       "    <tr>\n",
       "      <th>2021-07-04</th>\n",
       "      <td>35287.779766</td>\n",
       "      <td>6</td>\n",
       "      <td>3</td>\n",
       "      <td>7</td>\n",
       "      <td>2021</td>\n",
       "      <td>185</td>\n",
       "    </tr>\n",
       "    <tr>\n",
       "      <th>2021-07-05</th>\n",
       "      <td>33746.002456</td>\n",
       "      <td>0</td>\n",
       "      <td>3</td>\n",
       "      <td>7</td>\n",
       "      <td>2021</td>\n",
       "      <td>186</td>\n",
       "    </tr>\n",
       "    <tr>\n",
       "      <th>2021-07-06</th>\n",
       "      <td>34235.193451</td>\n",
       "      <td>1</td>\n",
       "      <td>3</td>\n",
       "      <td>7</td>\n",
       "      <td>2021</td>\n",
       "      <td>187</td>\n",
       "    </tr>\n",
       "  </tbody>\n",
       "</table>\n",
       "<p>100 rows × 6 columns</p>\n",
       "</div>"
      ],
      "text/plain": [
       "               BTC_Close  Dayofweek  Quater  Month  Year  Dayofyear\n",
       "Date                                                               \n",
       "2021-03-29  57750.199871          0       1      3  2021         88\n",
       "2021-03-30  58917.693045          1       1      3  2021         89\n",
       "2021-03-31  58918.832714          2       1      3  2021         90\n",
       "2021-04-01  59095.807978          3       2      4  2021         91\n",
       "2021-04-02  59384.313359          4       2      4  2021         92\n",
       "...                  ...        ...     ...    ...   ...        ...\n",
       "2021-07-02  33897.048590          4       3      7  2021        183\n",
       "2021-07-03  34668.548402          5       3      7  2021        184\n",
       "2021-07-04  35287.779766          6       3      7  2021        185\n",
       "2021-07-05  33746.002456          0       3      7  2021        186\n",
       "2021-07-06  34235.193451          1       3      7  2021        187\n",
       "\n",
       "[100 rows x 6 columns]"
      ]
     },
     "execution_count": 17,
     "metadata": {},
     "output_type": "execute_result"
    }
   ],
   "source": [
    "test"
   ]
  },
  {
   "cell_type": "code",
   "execution_count": 18,
   "id": "662996ad",
   "metadata": {},
   "outputs": [
    {
     "data": {
      "text/plain": [
       "['Dayofweek', 'Quater', 'Month', 'Year', 'Dayofyear']"
      ]
     },
     "execution_count": 18,
     "metadata": {},
     "output_type": "execute_result"
    }
   ],
   "source": [
    "features"
   ]
  },
  {
   "cell_type": "code",
   "execution_count": 19,
   "id": "83fe2909",
   "metadata": {},
   "outputs": [
    {
     "data": {
      "text/html": [
       "<div>\n",
       "<style scoped>\n",
       "    .dataframe tbody tr th:only-of-type {\n",
       "        vertical-align: middle;\n",
       "    }\n",
       "\n",
       "    .dataframe tbody tr th {\n",
       "        vertical-align: top;\n",
       "    }\n",
       "\n",
       "    .dataframe thead th {\n",
       "        text-align: right;\n",
       "    }\n",
       "</style>\n",
       "<table border=\"1\" class=\"dataframe\">\n",
       "  <thead>\n",
       "    <tr style=\"text-align: right;\">\n",
       "      <th></th>\n",
       "      <th>BTC_Close</th>\n",
       "      <th>Dayofweek</th>\n",
       "      <th>Quater</th>\n",
       "      <th>Month</th>\n",
       "      <th>Year</th>\n",
       "      <th>Dayofyear</th>\n",
       "    </tr>\n",
       "    <tr>\n",
       "      <th>Date</th>\n",
       "      <th></th>\n",
       "      <th></th>\n",
       "      <th></th>\n",
       "      <th></th>\n",
       "      <th></th>\n",
       "      <th></th>\n",
       "    </tr>\n",
       "  </thead>\n",
       "  <tbody>\n",
       "    <tr>\n",
       "      <th>2013-04-29</th>\n",
       "      <td>144.539993</td>\n",
       "      <td>0</td>\n",
       "      <td>2</td>\n",
       "      <td>4</td>\n",
       "      <td>2013</td>\n",
       "      <td>119</td>\n",
       "    </tr>\n",
       "    <tr>\n",
       "      <th>2013-04-30</th>\n",
       "      <td>139.000000</td>\n",
       "      <td>1</td>\n",
       "      <td>2</td>\n",
       "      <td>4</td>\n",
       "      <td>2013</td>\n",
       "      <td>120</td>\n",
       "    </tr>\n",
       "    <tr>\n",
       "      <th>2013-05-01</th>\n",
       "      <td>116.989998</td>\n",
       "      <td>2</td>\n",
       "      <td>2</td>\n",
       "      <td>5</td>\n",
       "      <td>2013</td>\n",
       "      <td>121</td>\n",
       "    </tr>\n",
       "    <tr>\n",
       "      <th>2013-05-02</th>\n",
       "      <td>105.209999</td>\n",
       "      <td>3</td>\n",
       "      <td>2</td>\n",
       "      <td>5</td>\n",
       "      <td>2013</td>\n",
       "      <td>122</td>\n",
       "    </tr>\n",
       "    <tr>\n",
       "      <th>2013-05-03</th>\n",
       "      <td>97.750000</td>\n",
       "      <td>4</td>\n",
       "      <td>2</td>\n",
       "      <td>5</td>\n",
       "      <td>2013</td>\n",
       "      <td>123</td>\n",
       "    </tr>\n",
       "    <tr>\n",
       "      <th>...</th>\n",
       "      <td>...</td>\n",
       "      <td>...</td>\n",
       "      <td>...</td>\n",
       "      <td>...</td>\n",
       "      <td>...</td>\n",
       "      <td>...</td>\n",
       "    </tr>\n",
       "    <tr>\n",
       "      <th>2021-03-24</th>\n",
       "      <td>52774.263690</td>\n",
       "      <td>2</td>\n",
       "      <td>1</td>\n",
       "      <td>3</td>\n",
       "      <td>2021</td>\n",
       "      <td>83</td>\n",
       "    </tr>\n",
       "    <tr>\n",
       "      <th>2021-03-25</th>\n",
       "      <td>51704.161925</td>\n",
       "      <td>3</td>\n",
       "      <td>1</td>\n",
       "      <td>3</td>\n",
       "      <td>2021</td>\n",
       "      <td>84</td>\n",
       "    </tr>\n",
       "    <tr>\n",
       "      <th>2021-03-26</th>\n",
       "      <td>55137.313726</td>\n",
       "      <td>4</td>\n",
       "      <td>1</td>\n",
       "      <td>3</td>\n",
       "      <td>2021</td>\n",
       "      <td>85</td>\n",
       "    </tr>\n",
       "    <tr>\n",
       "      <th>2021-03-27</th>\n",
       "      <td>55973.510842</td>\n",
       "      <td>5</td>\n",
       "      <td>1</td>\n",
       "      <td>3</td>\n",
       "      <td>2021</td>\n",
       "      <td>86</td>\n",
       "    </tr>\n",
       "    <tr>\n",
       "      <th>2021-03-28</th>\n",
       "      <td>55950.745774</td>\n",
       "      <td>6</td>\n",
       "      <td>1</td>\n",
       "      <td>3</td>\n",
       "      <td>2021</td>\n",
       "      <td>87</td>\n",
       "    </tr>\n",
       "  </tbody>\n",
       "</table>\n",
       "<p>2891 rows × 6 columns</p>\n",
       "</div>"
      ],
      "text/plain": [
       "               BTC_Close  Dayofweek  Quater  Month  Year  Dayofyear\n",
       "Date                                                               \n",
       "2013-04-29    144.539993          0       2      4  2013        119\n",
       "2013-04-30    139.000000          1       2      4  2013        120\n",
       "2013-05-01    116.989998          2       2      5  2013        121\n",
       "2013-05-02    105.209999          3       2      5  2013        122\n",
       "2013-05-03     97.750000          4       2      5  2013        123\n",
       "...                  ...        ...     ...    ...   ...        ...\n",
       "2021-03-24  52774.263690          2       1      3  2021         83\n",
       "2021-03-25  51704.161925          3       1      3  2021         84\n",
       "2021-03-26  55137.313726          4       1      3  2021         85\n",
       "2021-03-27  55973.510842          5       1      3  2021         86\n",
       "2021-03-28  55950.745774          6       1      3  2021         87\n",
       "\n",
       "[2891 rows x 6 columns]"
      ]
     },
     "execution_count": 19,
     "metadata": {},
     "output_type": "execute_result"
    }
   ],
   "source": [
    "train"
   ]
  },
  {
   "cell_type": "code",
   "execution_count": 20,
   "id": "423e97ce",
   "metadata": {},
   "outputs": [],
   "source": [
    "# Bitcoin.columns"
   ]
  },
  {
   "cell_type": "code",
   "execution_count": 21,
   "id": "2d502533",
   "metadata": {},
   "outputs": [],
   "source": [
    "x_train = train[features]\n",
    "y_train = train[target]\n",
    "\n",
    "x_test = test[features]\n",
    "y_test = test[target]"
   ]
  },
  {
   "cell_type": "code",
   "execution_count": 22,
   "id": "661368fe",
   "metadata": {},
   "outputs": [
    {
     "name": "stdout",
     "output_type": "stream",
     "text": [
      "[18:04:50] WARNING: C:/Users/Administrator/workspace/xgboost-win64_release_1.5.0/src/learner.cc:576: \n",
      "Parameters: { \"early_stopping_rounds\" } might not be used.\n",
      "\n",
      "  This could be a false alarm, with some parameters getting used by language bindings but\n",
      "  then being mistakenly passed down to XGBoost core, or some parameter actually being used\n",
      "  but getting flagged wrongly here. Please open an issue if you find any such cases.\n",
      "\n",
      "\n",
      "[0]\tvalidation_0-rmse:9961.16699\tvalidation_1-rmse:46814.42969\n",
      "[100]\tvalidation_0-rmse:3838.40063\tvalidation_1-rmse:16472.33203\n",
      "[200]\tvalidation_0-rmse:1581.91675\tvalidation_1-rmse:10644.60352\n",
      "[300]\tvalidation_0-rmse:777.21948\tvalidation_1-rmse:11961.18945\n",
      "[400]\tvalidation_0-rmse:474.12167\tvalidation_1-rmse:12682.17773\n",
      "[500]\tvalidation_0-rmse:385.18622\tvalidation_1-rmse:13030.44922\n",
      "[600]\tvalidation_0-rmse:337.78265\tvalidation_1-rmse:13243.03125\n",
      "[700]\tvalidation_0-rmse:319.53622\tvalidation_1-rmse:13322.90820\n",
      "[800]\tvalidation_0-rmse:295.40170\tvalidation_1-rmse:13372.30762\n",
      "[900]\tvalidation_0-rmse:268.19745\tvalidation_1-rmse:13390.52051\n",
      "[999]\tvalidation_0-rmse:253.50273\tvalidation_1-rmse:13399.68457\n"
     ]
    },
    {
     "data": {
      "text/plain": [
       "XGBRegressor(base_score=0.5, booster='gbtree', colsample_bylevel=1,\n",
       "             colsample_bynode=1, colsample_bytree=1, early_stopping_rounds=50,\n",
       "             enable_categorical=False, gamma=0, gpu_id=-1, importance_type=None,\n",
       "             interaction_constraints='', learning_rate=0.01, max_delta_step=0,\n",
       "             max_depth=6, min_child_weight=1, missing=nan,\n",
       "             monotone_constraints='()', n_estimators=1000, n_jobs=8,\n",
       "             num_parallel_tree=1, predictor='auto', random_state=0, reg_alpha=0,\n",
       "             reg_lambda=1, scale_pos_weight=1, subsample=1, tree_method='exact',\n",
       "             validate_parameters=1, verbosity=None)"
      ]
     },
     "execution_count": 22,
     "metadata": {},
     "output_type": "execute_result"
    }
   ],
   "source": [
    "reg = Xg.XGBRegressor(n_estimators =1000, early_stopping_rounds = 50, learning_rate = 0.01)\n",
    "reg.fit(x_train,y_train, \n",
    "        eval_set = [(x_train,y_train),(x_test,y_test)],\n",
    "        verbose = 100)"
   ]
  },
  {
   "cell_type": "code",
   "execution_count": 23,
   "id": "36484c31",
   "metadata": {},
   "outputs": [
    {
     "data": {
      "text/plain": [
       "array([3.0641214e-04, 1.9360065e-03, 4.7607338e-03, 9.5379752e-01,\n",
       "       3.9199349e-02], dtype=float32)"
      ]
     },
     "execution_count": 23,
     "metadata": {},
     "output_type": "execute_result"
    }
   ],
   "source": [
    "reg.feature_importances_"
   ]
  },
  {
   "cell_type": "code",
   "execution_count": 24,
   "id": "d1d14244",
   "metadata": {},
   "outputs": [],
   "source": [
    "# pd.DataFrame(data=reg.feature_importances_,index=reg.feature_names_in_,columns=['importance'])"
   ]
  },
  {
   "cell_type": "markdown",
   "id": "783e1a77",
   "metadata": {},
   "source": [
    "- Forecsting\n"
   ]
  },
  {
   "cell_type": "code",
   "execution_count": 25,
   "id": "bc2875ff",
   "metadata": {},
   "outputs": [
    {
     "data": {
      "text/plain": [
       "Date\n",
       "2021-03-29    53528.656250\n",
       "2021-03-30    53653.050781\n",
       "2021-03-31    53180.441406\n",
       "2021-04-01    52315.269531\n",
       "2021-04-02    55115.976562\n",
       "                  ...     \n",
       "2021-07-02    55109.152344\n",
       "2021-07-03    55912.011719\n",
       "2021-07-04    55855.765625\n",
       "2021-07-05    53529.472656\n",
       "2021-07-06    53653.867188\n",
       "Name: Prediction, Length: 100, dtype: float32"
      ]
     },
     "execution_count": 25,
     "metadata": {},
     "output_type": "execute_result"
    }
   ],
   "source": [
    "test['Prediction'] = reg.predict(x_test)\n",
    "test['Prediction']"
   ]
  },
  {
   "cell_type": "code",
   "execution_count": 26,
   "id": "3f43e1bf",
   "metadata": {},
   "outputs": [],
   "source": [
    "df = df.merge(test[['Prediction']], how = 'left', left_index= True, right_index= True)"
   ]
  },
  {
   "cell_type": "code",
   "execution_count": 27,
   "id": "1295700e",
   "metadata": {},
   "outputs": [
    {
     "data": {
      "image/png": "[encoded data removed]",
      "text/plain": [
       "<Figure size 1080x360 with 1 Axes>"
      ]
     },
     "metadata": {
      "needs_background": "light"
     },
     "output_type": "display_data"
    }
   ],
   "source": [
    "ax = df[['BTC_Close']].plot(figsize = (15,5))\n",
    "df['Prediction'].plot(ax = ax, style = '-')\n",
    "plt.legend(['Truth Data','Prediction'])\n",
    "ax.set_title('Bitcoin Prediction')\n",
    "plt.show()"
   ]
  },
  {
   "cell_type": "code",
   "execution_count": 28,
   "id": "bb9add87",
   "metadata": {},
   "outputs": [
    {
     "data": {
      "text/plain": [
       "13399.684728369959"
      ]
     },
     "execution_count": 28,
     "metadata": {},
     "output_type": "execute_result"
    }
   ],
   "source": [
    "np.sqrt(mean_squared_error(test['BTC_Close'],test['Prediction']))"
   ]
  },
  {
   "cell_type": "code",
   "execution_count": 29,
   "id": "6fa45905",
   "metadata": {},
   "outputs": [
    {
     "data": {
      "text/plain": [
       "(100, 1)"
      ]
     },
     "execution_count": 29,
     "metadata": {},
     "output_type": "execute_result"
    }
   ],
   "source": [
    "test[target].shape"
   ]
  },
  {
   "cell_type": "code",
   "execution_count": 30,
   "id": "32ab57b5",
   "metadata": {},
   "outputs": [
    {
     "data": {
      "text/plain": [
       "(100,)"
      ]
     },
     "execution_count": 30,
     "metadata": {},
     "output_type": "execute_result"
    }
   ],
   "source": [
    "test['Prediction'].shape"
   ]
  },
  {
   "cell_type": "code",
   "execution_count": 31,
   "id": "6e497dc5",
   "metadata": {},
   "outputs": [
    {
     "data": {
      "text/plain": [
       "date\n",
       "2021-06-26    23725.734048\n",
       "2021-06-25    23471.372288\n",
       "2021-06-21    21852.778924\n",
       "2021-05-29    21295.943715\n",
       "2021-07-03    21243.463317\n",
       "Name: error, dtype: float64"
      ]
     },
     "execution_count": 31,
     "metadata": {},
     "output_type": "execute_result"
    }
   ],
   "source": [
    "test['error'] = np.abs(test['BTC_Close'] - test['Prediction'])\n",
    "test['date'] = test.index.date\n",
    "test.groupby(['date'])['error'].mean().sort_values(ascending = False).head()"
   ]
  },
  {
   "cell_type": "code",
   "execution_count": 32,
   "id": "ca5af225",
   "metadata": {},
   "outputs": [
    {
     "data": {
      "text/plain": [
       "date\n",
       "2021-05-04    319.513029\n",
       "2021-04-18    355.685002\n",
       "2021-04-26    493.098537\n",
       "2021-04-22    550.907636\n",
       "2021-04-21    725.646640\n",
       "Name: error, dtype: float64"
      ]
     },
     "execution_count": 32,
     "metadata": {},
     "output_type": "execute_result"
    }
   ],
   "source": [
    "test.groupby(['date'])['error'].mean().sort_values(ascending = True).head()"
   ]
  },
  {
   "cell_type": "code",
   "execution_count": null,
   "id": "c6344244",
   "metadata": {},
   "outputs": [],
   "source": []
  },
  {
   "cell_type": "markdown",
   "id": "67c11eda",
   "metadata": {},
   "source": [
    "- Ethereum"
   ]
  },
  {
   "cell_type": "code",
   "execution_count": 33,
   "id": "d4b969d5",
   "metadata": {},
   "outputs": [],
   "source": [
    "df = ETH.copy()\n",
    "df = df[['Date','ETH_Close']]\n",
    "df = df.set_index('Date')\n",
    "df.index= pd.to_datetime(df.index)"
   ]
  },
  {
   "cell_type": "code",
   "execution_count": 34,
   "id": "5bf33554",
   "metadata": {},
   "outputs": [
    {
     "data": {
      "text/html": [
       "<div>\n",
       "<style scoped>\n",
       "    .dataframe tbody tr th:only-of-type {\n",
       "        vertical-align: middle;\n",
       "    }\n",
       "\n",
       "    .dataframe tbody tr th {\n",
       "        vertical-align: top;\n",
       "    }\n",
       "\n",
       "    .dataframe thead th {\n",
       "        text-align: right;\n",
       "    }\n",
       "</style>\n",
       "<table border=\"1\" class=\"dataframe\">\n",
       "  <thead>\n",
       "    <tr style=\"text-align: right;\">\n",
       "      <th></th>\n",
       "      <th>ETH_Close</th>\n",
       "    </tr>\n",
       "    <tr>\n",
       "      <th>Date</th>\n",
       "      <th></th>\n",
       "    </tr>\n",
       "  </thead>\n",
       "  <tbody>\n",
       "    <tr>\n",
       "      <th>2015-08-08</th>\n",
       "      <td>0.753325</td>\n",
       "    </tr>\n",
       "    <tr>\n",
       "      <th>2015-08-09</th>\n",
       "      <td>0.701897</td>\n",
       "    </tr>\n",
       "    <tr>\n",
       "      <th>2015-08-10</th>\n",
       "      <td>0.708448</td>\n",
       "    </tr>\n",
       "    <tr>\n",
       "      <th>2015-08-11</th>\n",
       "      <td>1.067860</td>\n",
       "    </tr>\n",
       "    <tr>\n",
       "      <th>2015-08-12</th>\n",
       "      <td>1.217440</td>\n",
       "    </tr>\n",
       "  </tbody>\n",
       "</table>\n",
       "</div>"
      ],
      "text/plain": [
       "            ETH_Close\n",
       "Date                 \n",
       "2015-08-08   0.753325\n",
       "2015-08-09   0.701897\n",
       "2015-08-10   0.708448\n",
       "2015-08-11   1.067860\n",
       "2015-08-12   1.217440"
      ]
     },
     "execution_count": 34,
     "metadata": {},
     "output_type": "execute_result"
    }
   ],
   "source": [
    "df.head()"
   ]
  },
  {
   "cell_type": "code",
   "execution_count": 35,
   "id": "055d8039",
   "metadata": {},
   "outputs": [
    {
     "data": {
      "image/png": "[encoded data removed]",
      "text/plain": [
       "<Figure size 1080x360 with 1 Axes>"
      ]
     },
     "metadata": {
      "needs_background": "light"
     },
     "output_type": "display_data"
    }
   ],
   "source": [
    "# Bitcoin = Bitcoin.set_index('Date')\n",
    "df.plot(style = '-', figsize = (15,5),color = Color_pal[0],title = 'Ethereum Historical Price')\n",
    "plt.show()"
   ]
  },
  {
   "cell_type": "code",
   "execution_count": 36,
   "id": "d1e5ad2c",
   "metadata": {},
   "outputs": [
    {
     "name": "stdout",
     "output_type": "stream",
     "text": [
      "(2160, 1)\n",
      "(2060, 1) (100, 1)\n"
     ]
    }
   ],
   "source": [
    "\n",
    "print(df.shape)\n",
    "train = df.iloc[:-100]\n",
    "test = df.iloc[-100:]\n",
    "print(train.shape,test.shape)"
   ]
  },
  {
   "cell_type": "code",
   "execution_count": 37,
   "id": "91287558",
   "metadata": {},
   "outputs": [
    {
     "data": {
      "text/plain": [
       "<AxesSubplot:xlabel='Date'>"
      ]
     },
     "execution_count": 37,
     "metadata": {},
     "output_type": "execute_result"
    },
    {
     "data": {
      "image/png": "[encoded data removed]",
      "text/plain": [
       "<Figure size 432x288 with 1 Axes>"
      ]
     },
     "metadata": {
      "needs_background": "light"
     },
     "output_type": "display_data"
    }
   ],
   "source": [
    "df.loc[(df.index>'2020-07-02') & (df.index <'2020-07-10')].plot()"
   ]
  },
  {
   "cell_type": "markdown",
   "id": "c0ee48b1",
   "metadata": {},
   "source": [
    " - Fetures Creation"
   ]
  },
  {
   "cell_type": "code",
   "execution_count": 38,
   "id": "3e965b2e",
   "metadata": {},
   "outputs": [],
   "source": [
    "def create_features(df):\n",
    "    \"\"\"\n",
    "    Create Time series features based on index.\n",
    "    \"\"\"\n",
    "    df = df.copy()\n",
    "    df['Dayofweek'] = df.index.day_of_week\n",
    "    df ['Quater']= df.index.quarter\n",
    "    df ['Month']= df.index.month\n",
    "    df ['Year'] = df.index.year\n",
    "    df ['Dayofyear'] = df.index.dayofyear\n",
    "\n",
    "    return df"
   ]
  },
  {
   "cell_type": "code",
   "execution_count": 39,
   "id": "ead66c1a",
   "metadata": {},
   "outputs": [],
   "source": [
    "df = create_features(df)\n",
    "train = create_features(train)\n",
    "test = create_features(test)\n",
    "features = ['Dayofweek', 'Quater', 'Month', 'Year', 'Dayofyear']\n",
    "target = ['ETH_Close']"
   ]
  },
  {
   "cell_type": "code",
   "execution_count": 40,
   "id": "ca0e32b4",
   "metadata": {},
   "outputs": [],
   "source": [
    "x_train = train[features]\n",
    "y_train = train[target]\n",
    "\n",
    "x_test = test[features]\n",
    "y_test = test[target]"
   ]
  },
  {
   "cell_type": "code",
   "execution_count": 41,
   "id": "91a59ab9",
   "metadata": {},
   "outputs": [
    {
     "name": "stdout",
     "output_type": "stream",
     "text": [
      "[18:04:52] WARNING: C:/Users/Administrator/workspace/xgboost-win64_release_1.5.0/src/learner.cc:576: \n",
      "Parameters: { \"early_stopping_rounds\" } might not be used.\n",
      "\n",
      "  This could be a false alarm, with some parameters getting used by language bindings but\n",
      "  then being mistakenly passed down to XGBoost core, or some parameter actually being used\n",
      "  but getting flagged wrongly here. Please open an issue if you find any such cases.\n",
      "\n",
      "\n",
      "[0]\tvalidation_0-rmse:444.26291\tvalidation_1-rmse:2596.99658\n",
      "[100]\tvalidation_0-rmse:172.54050\tvalidation_1-rmse:1574.62476\n",
      "[200]\tvalidation_0-rmse:75.39500\tvalidation_1-rmse:1222.63342\n",
      "[300]\tvalidation_0-rmse:41.94744\tvalidation_1-rmse:1121.42859\n",
      "[400]\tvalidation_0-rmse:32.00482\tvalidation_1-rmse:1087.77734\n",
      "[500]\tvalidation_0-rmse:25.71123\tvalidation_1-rmse:1073.49829\n",
      "[600]\tvalidation_0-rmse:23.30002\tvalidation_1-rmse:1067.86829\n",
      "[700]\tvalidation_0-rmse:20.08048\tvalidation_1-rmse:1068.63025\n",
      "[800]\tvalidation_0-rmse:17.86438\tvalidation_1-rmse:1069.27686\n",
      "[900]\tvalidation_0-rmse:16.71238\tvalidation_1-rmse:1070.11340\n",
      "[999]\tvalidation_0-rmse:15.45505\tvalidation_1-rmse:1071.00769\n"
     ]
    },
    {
     "data": {
      "text/plain": [
       "XGBRegressor(base_score=0.5, booster='gbtree', colsample_bylevel=1,\n",
       "             colsample_bynode=1, colsample_bytree=1, early_stopping_rounds=50,\n",
       "             enable_categorical=False, gamma=0, gpu_id=-1, importance_type=None,\n",
       "             interaction_constraints='', learning_rate=0.01, max_delta_step=0,\n",
       "             max_depth=6, min_child_weight=1, missing=nan,\n",
       "             monotone_constraints='()', n_estimators=1000, n_jobs=8,\n",
       "             num_parallel_tree=1, predictor='auto', random_state=0, reg_alpha=0,\n",
       "             reg_lambda=1, scale_pos_weight=1, subsample=1, tree_method='exact',\n",
       "             validate_parameters=1, verbosity=None)"
      ]
     },
     "execution_count": 41,
     "metadata": {},
     "output_type": "execute_result"
    }
   ],
   "source": [
    "reg = Xg.XGBRegressor(n_estimators =1000, early_stopping_rounds = 50, learning_rate = 0.01)\n",
    "reg.fit(x_train,y_train, \n",
    "        eval_set = [(x_train,y_train),(x_test,y_test)],\n",
    "        verbose = 100)"
   ]
  },
  {
   "cell_type": "code",
   "execution_count": 42,
   "id": "00ff7803",
   "metadata": {},
   "outputs": [
    {
     "data": {
      "text/plain": [
       "array([7.3628442e-04, 2.5952267e-03, 5.4160252e-02, 8.4870958e-01,\n",
       "       9.3798645e-02], dtype=float32)"
      ]
     },
     "execution_count": 42,
     "metadata": {},
     "output_type": "execute_result"
    }
   ],
   "source": [
    "reg.feature_importances_"
   ]
  },
  {
   "cell_type": "markdown",
   "id": "c7504ee6",
   "metadata": {},
   "source": [
    " - Forecasting"
   ]
  },
  {
   "cell_type": "code",
   "execution_count": 43,
   "id": "4930aa3b",
   "metadata": {},
   "outputs": [
    {
     "data": {
      "text/plain": [
       "Date\n",
       "2021-03-29    1614.853149\n",
       "2021-03-30    1614.853149\n",
       "2021-03-31    1609.164551\n",
       "2021-04-01    1609.132568\n",
       "2021-04-02    1687.755493\n",
       "                 ...     \n",
       "2021-07-02    1683.479858\n",
       "2021-07-03    1695.808960\n",
       "2021-07-04    1684.498291\n",
       "2021-07-05    1609.863159\n",
       "2021-07-06    1609.306641\n",
       "Name: Prediction, Length: 100, dtype: float32"
      ]
     },
     "execution_count": 43,
     "metadata": {},
     "output_type": "execute_result"
    }
   ],
   "source": [
    "test['Prediction'] = reg.predict(x_test)\n",
    "test['Prediction']"
   ]
  },
  {
   "cell_type": "code",
   "execution_count": 44,
   "id": "1e5788e9",
   "metadata": {},
   "outputs": [],
   "source": [
    "df = df.merge(test[['Prediction']], how = 'left', left_index= True, right_index= True)"
   ]
  },
  {
   "cell_type": "code",
   "execution_count": 45,
   "id": "6907907b",
   "metadata": {},
   "outputs": [
    {
     "data": {
      "image/png": "[encoded data removed]",
      "text/plain": [
       "<Figure size 1080x360 with 1 Axes>"
      ]
     },
     "metadata": {
      "needs_background": "light"
     },
     "output_type": "display_data"
    }
   ],
   "source": [
    "ax = df[['ETH_Close']].plot(figsize = (15,5))\n",
    "df['Prediction'].plot(ax = ax, style = '-')\n",
    "plt.legend(['Truth Data','Prediction'])\n",
    "ax.set_title('Ethereum Prediction')\n",
    "plt.show()"
   ]
  },
  {
   "cell_type": "code",
   "execution_count": 46,
   "id": "8e20b632",
   "metadata": {},
   "outputs": [
    {
     "data": {
      "text/plain": [
       "1071.0076616519723"
      ]
     },
     "execution_count": 46,
     "metadata": {},
     "output_type": "execute_result"
    }
   ],
   "source": [
    "np.sqrt(mean_squared_error(test[target],test['Prediction']))"
   ]
  },
  {
   "cell_type": "code",
   "execution_count": 47,
   "id": "2dff4e3d",
   "metadata": {},
   "outputs": [
    {
     "data": {
      "text/plain": [
       "date\n",
       "2021-05-11    2560.240233\n",
       "2021-05-14    2396.177454\n",
       "2021-05-10    2340.809864\n",
       "2021-05-09    2237.340189\n",
       "2021-05-08    2199.832548\n",
       "Name: error, dtype: float64"
      ]
     },
     "execution_count": 47,
     "metadata": {},
     "output_type": "execute_result"
    }
   ],
   "source": [
    "test['error'] = np.abs(test['ETH_Close'] - test['Prediction'])\n",
    "test['date'] = test.index.date\n",
    "test.groupby(['date'])['error'].mean().sort_values(ascending = False).head()"
   ]
  },
  {
   "cell_type": "code",
   "execution_count": 48,
   "id": "c4dc0b35",
   "metadata": {},
   "outputs": [
    {
     "data": {
      "text/plain": [
       "date\n",
       "2021-06-25    130.001412\n",
       "2021-06-26    133.894124\n",
       "2021-03-29    204.831813\n",
       "2021-03-30    231.180548\n",
       "2021-06-22    265.539865\n",
       "Name: error, dtype: float64"
      ]
     },
     "execution_count": 48,
     "metadata": {},
     "output_type": "execute_result"
    }
   ],
   "source": [
    "test.groupby(['date'])['error'].mean().sort_values(ascending = True).head()"
   ]
  },
  {
   "cell_type": "code",
   "execution_count": null,
   "id": "dc1f16c1",
   "metadata": {},
   "outputs": [],
   "source": []
  },
  {
   "cell_type": "markdown",
   "id": "d5b74c74",
   "metadata": {},
   "source": [
    "- Binance Coin"
   ]
  },
  {
   "cell_type": "code",
   "execution_count": 49,
   "id": "830d298c",
   "metadata": {},
   "outputs": [],
   "source": [
    "df = BNB.copy()\n",
    "df = df[['Date','BNB_Close']]\n",
    "df = df.set_index('Date')\n",
    "df.index= pd.to_datetime(df.index)"
   ]
  },
  {
   "cell_type": "code",
   "execution_count": 50,
   "id": "a4141899",
   "metadata": {},
   "outputs": [
    {
     "data": {
      "text/html": [
       "<div>\n",
       "<style scoped>\n",
       "    .dataframe tbody tr th:only-of-type {\n",
       "        vertical-align: middle;\n",
       "    }\n",
       "\n",
       "    .dataframe tbody tr th {\n",
       "        vertical-align: top;\n",
       "    }\n",
       "\n",
       "    .dataframe thead th {\n",
       "        text-align: right;\n",
       "    }\n",
       "</style>\n",
       "<table border=\"1\" class=\"dataframe\">\n",
       "  <thead>\n",
       "    <tr style=\"text-align: right;\">\n",
       "      <th></th>\n",
       "      <th>BNB_Close</th>\n",
       "    </tr>\n",
       "    <tr>\n",
       "      <th>Date</th>\n",
       "      <th></th>\n",
       "    </tr>\n",
       "  </thead>\n",
       "  <tbody>\n",
       "    <tr>\n",
       "      <th>2017-07-26</th>\n",
       "      <td>0.105138</td>\n",
       "    </tr>\n",
       "    <tr>\n",
       "      <th>2017-07-27</th>\n",
       "      <td>0.107737</td>\n",
       "    </tr>\n",
       "    <tr>\n",
       "      <th>2017-07-28</th>\n",
       "      <td>0.104067</td>\n",
       "    </tr>\n",
       "    <tr>\n",
       "      <th>2017-07-29</th>\n",
       "      <td>0.107811</td>\n",
       "    </tr>\n",
       "    <tr>\n",
       "      <th>2017-07-30</th>\n",
       "      <td>0.106414</td>\n",
       "    </tr>\n",
       "  </tbody>\n",
       "</table>\n",
       "</div>"
      ],
      "text/plain": [
       "            BNB_Close\n",
       "Date                 \n",
       "2017-07-26   0.105138\n",
       "2017-07-27   0.107737\n",
       "2017-07-28   0.104067\n",
       "2017-07-29   0.107811\n",
       "2017-07-30   0.106414"
      ]
     },
     "execution_count": 50,
     "metadata": {},
     "output_type": "execute_result"
    }
   ],
   "source": [
    "df.head()"
   ]
  },
  {
   "cell_type": "code",
   "execution_count": 51,
   "id": "0ca41076",
   "metadata": {},
   "outputs": [
    {
     "data": {
      "image/png": "[encoded data removed]",
      "text/plain": [
       "<Figure size 1080x360 with 1 Axes>"
      ]
     },
     "metadata": {
      "needs_background": "light"
     },
     "output_type": "display_data"
    }
   ],
   "source": [
    "# Bitcoin = Bitcoin.set_index('Date')\n",
    "df.plot(style = '-', figsize = (15,5),color = Color_pal[0],title = 'Binance Coin Historical Price')\n",
    "plt.show()"
   ]
  },
  {
   "cell_type": "code",
   "execution_count": 52,
   "id": "caf2d98b",
   "metadata": {},
   "outputs": [
    {
     "name": "stdout",
     "output_type": "stream",
     "text": [
      "(1442, 1)\n",
      "(1342, 1) (100, 1)\n"
     ]
    }
   ],
   "source": [
    "\n",
    "print(df.shape)\n",
    "train = df.iloc[:-100]\n",
    "test = df.iloc[-100:]\n",
    "print(train.shape,test.shape)"
   ]
  },
  {
   "cell_type": "code",
   "execution_count": 53,
   "id": "1c1ad4fe",
   "metadata": {},
   "outputs": [
    {
     "data": {
      "text/plain": [
       "<AxesSubplot:xlabel='Date'>"
      ]
     },
     "execution_count": 53,
     "metadata": {},
     "output_type": "execute_result"
    },
    {
     "data": {
      "image/png": "[encoded data removed]",
      "text/plain": [
       "<Figure size 432x288 with 1 Axes>"
      ]
     },
     "metadata": {
      "needs_background": "light"
     },
     "output_type": "display_data"
    }
   ],
   "source": [
    "df.loc[(df.index>'2020-07-02') & (df.index <'2020-07-10')].plot()"
   ]
  },
  {
   "cell_type": "code",
   "execution_count": 54,
   "id": "ff4cf2b7",
   "metadata": {},
   "outputs": [],
   "source": [
    "def create_features(df):\n",
    "    \"\"\"\n",
    "    Create Time series features based on index.\n",
    "    \"\"\"\n",
    "    df = df.copy()\n",
    "    df['Dayofweek'] = df.index.day_of_week\n",
    "    df ['Quater']= df.index.quarter\n",
    "    df ['Month']= df.index.month\n",
    "    df ['Year'] = df.index.year\n",
    "    df ['Dayofyear'] = df.index.dayofyear\n",
    "\n",
    "    return df"
   ]
  },
  {
   "cell_type": "code",
   "execution_count": 55,
   "id": "0861b68e",
   "metadata": {},
   "outputs": [],
   "source": [
    "df = create_features(df)\n",
    "train = create_features(train)\n",
    "test = create_features(test)\n",
    "features = ['Dayofweek', 'Quater', 'Month', 'Year', 'Dayofyear']\n",
    "target = ['BNB_Close']"
   ]
  },
  {
   "cell_type": "code",
   "execution_count": 56,
   "id": "d63a8670",
   "metadata": {},
   "outputs": [],
   "source": [
    "x_train = train[features]\n",
    "y_train = train[target]\n",
    "\n",
    "x_test = test[features]\n",
    "y_test = test[target]"
   ]
  },
  {
   "cell_type": "code",
   "execution_count": 57,
   "id": "0dfa56c3",
   "metadata": {},
   "outputs": [
    {
     "name": "stdout",
     "output_type": "stream",
     "text": [
      "[18:04:54] WARNING: C:/Users/Administrator/workspace/xgboost-win64_release_1.5.0/src/learner.cc:576: \n",
      "Parameters: { \"early_stopping_rounds\" } might not be used.\n",
      "\n",
      "  This could be a false alarm, with some parameters getting used by language bindings but\n",
      "  then being mistakenly passed down to XGBoost core, or some parameter actually being used\n",
      "  but getting flagged wrongly here. Please open an issue if you find any such cases.\n",
      "\n",
      "\n",
      "[0]\tvalidation_0-rmse:48.09090\tvalidation_1-rmse:443.56802\n",
      "[100]\tvalidation_0-rmse:18.71543\tvalidation_1-rmse:295.81003\n",
      "[200]\tvalidation_0-rmse:8.00199\tvalidation_1-rmse:240.41748\n",
      "[300]\tvalidation_0-rmse:4.01391\tvalidation_1-rmse:221.80028\n",
      "[400]\tvalidation_0-rmse:2.45001\tvalidation_1-rmse:215.85809\n",
      "[500]\tvalidation_0-rmse:1.76914\tvalidation_1-rmse:212.32169\n",
      "[600]\tvalidation_0-rmse:1.43932\tvalidation_1-rmse:211.49823\n",
      "[700]\tvalidation_0-rmse:1.19197\tvalidation_1-rmse:211.74275\n",
      "[800]\tvalidation_0-rmse:1.03965\tvalidation_1-rmse:212.50877\n",
      "[900]\tvalidation_0-rmse:0.91914\tvalidation_1-rmse:212.60471\n",
      "[999]\tvalidation_0-rmse:0.81498\tvalidation_1-rmse:212.65361\n"
     ]
    },
    {
     "data": {
      "text/plain": [
       "XGBRegressor(base_score=0.5, booster='gbtree', colsample_bylevel=1,\n",
       "             colsample_bynode=1, colsample_bytree=1, early_stopping_rounds=50,\n",
       "             enable_categorical=False, gamma=0, gpu_id=-1, importance_type=None,\n",
       "             interaction_constraints='', learning_rate=0.01, max_delta_step=0,\n",
       "             max_depth=6, min_child_weight=1, missing=nan,\n",
       "             monotone_constraints='()', n_estimators=1000, n_jobs=8,\n",
       "             num_parallel_tree=1, predictor='auto', random_state=0, reg_alpha=0,\n",
       "             reg_lambda=1, scale_pos_weight=1, subsample=1, tree_method='exact',\n",
       "             validate_parameters=1, verbosity=None)"
      ]
     },
     "execution_count": 57,
     "metadata": {},
     "output_type": "execute_result"
    }
   ],
   "source": [
    "reg = Xg.XGBRegressor(n_estimators =1000, early_stopping_rounds = 50, learning_rate = 0.01)\n",
    "reg.fit(x_train,y_train, \n",
    "        eval_set = [(x_train,y_train),(x_test,y_test)],\n",
    "        verbose = 100)"
   ]
  },
  {
   "cell_type": "code",
   "execution_count": 58,
   "id": "a8b3a030",
   "metadata": {},
   "outputs": [
    {
     "data": {
      "text/plain": [
       "array([0.00131867, 0.01621824, 0.00537753, 0.84560996, 0.1314756 ],\n",
       "      dtype=float32)"
      ]
     },
     "execution_count": 58,
     "metadata": {},
     "output_type": "execute_result"
    }
   ],
   "source": [
    "reg.feature_importances_"
   ]
  },
  {
   "cell_type": "code",
   "execution_count": 59,
   "id": "5b692ff8",
   "metadata": {},
   "outputs": [
    {
     "data": {
      "text/plain": [
       "Date\n",
       "2021-03-29    253.229828\n",
       "2021-03-30    253.161362\n",
       "2021-03-31    249.379364\n",
       "2021-04-01    241.979477\n",
       "2021-04-02    259.316742\n",
       "                 ...    \n",
       "2021-07-02    259.103516\n",
       "2021-07-03    268.259430\n",
       "2021-07-04    268.259430\n",
       "2021-07-05    253.055359\n",
       "2021-07-06    252.986893\n",
       "Name: Prediction, Length: 100, dtype: float32"
      ]
     },
     "execution_count": 59,
     "metadata": {},
     "output_type": "execute_result"
    }
   ],
   "source": [
    "test['Prediction'] = reg.predict(x_test)\n",
    "test['Prediction']"
   ]
  },
  {
   "cell_type": "code",
   "execution_count": 60,
   "id": "6436fc8c",
   "metadata": {},
   "outputs": [],
   "source": [
    "df = df.merge(test[['Prediction']], how = 'left', left_index= True, right_index= True)"
   ]
  },
  {
   "cell_type": "code",
   "execution_count": 64,
   "id": "45ff2366",
   "metadata": {},
   "outputs": [
    {
     "data": {
      "image/png": "[encoded data removed]",
      "text/plain": [
       "<Figure size 1080x360 with 1 Axes>"
      ]
     },
     "metadata": {
      "needs_background": "light"
     },
     "output_type": "display_data"
    }
   ],
   "source": [
    "ax = df[['BNB_Close']].plot(figsize = (15,5))\n",
    "df['Prediction'].plot(ax = ax, style = '-')\n",
    "plt.legend(['Truth Data','Prediction'])\n",
    "ax.set_title('Binance Prediction')\n",
    "plt.show()"
   ]
  },
  {
   "cell_type": "code",
   "execution_count": 61,
   "id": "300bbd1f",
   "metadata": {},
   "outputs": [
    {
     "data": {
      "text/plain": [
       "212.65360436904598"
      ]
     },
     "execution_count": 61,
     "metadata": {},
     "output_type": "execute_result"
    }
   ],
   "source": [
    "np.sqrt(mean_squared_error(test[target],test['Prediction']))"
   ]
  },
  {
   "cell_type": "code",
   "execution_count": 62,
   "id": "205b3637",
   "metadata": {},
   "outputs": [
    {
     "data": {
      "text/plain": [
       "date\n",
       "2021-05-03    422.435313\n",
       "2021-05-11    419.201896\n",
       "2021-05-05    402.264407\n",
       "2021-05-09    393.704710\n",
       "2021-05-06    391.201508\n",
       "Name: error, dtype: float64"
      ]
     },
     "execution_count": 62,
     "metadata": {},
     "output_type": "execute_result"
    }
   ],
   "source": [
    "test['error'] = np.abs(test['BNB_Close'] - test['Prediction'])\n",
    "test['date'] = test.index.date\n",
    "test.groupby(['date'])['error'].mean().sort_values(ascending = False).head()"
   ]
  },
  {
   "cell_type": "code",
   "execution_count": 63,
   "id": "e9e16567",
   "metadata": {},
   "outputs": [
    {
     "data": {
      "text/plain": [
       "date\n",
       "2021-05-23     5.451330\n",
       "2021-06-22     8.657943\n",
       "2021-06-26    11.041071\n",
       "2021-06-21    17.762744\n",
       "2021-03-29    21.984792\n",
       "Name: error, dtype: float64"
      ]
     },
     "execution_count": 63,
     "metadata": {},
     "output_type": "execute_result"
    }
   ],
   "source": [
    "test.groupby(['date'])['error'].mean().sort_values(ascending = True).head()"
   ]
  },
  {
   "cell_type": "code",
   "execution_count": null,
   "id": "ef2df183",
   "metadata": {},
   "outputs": [],
   "source": []
  },
  {
   "cell_type": "code",
   "execution_count": null,
   "id": "3e23588d",
   "metadata": {},
   "outputs": [],
   "source": []
  },
  {
   "cell_type": "code",
   "execution_count": null,
   "id": "69ce414c",
   "metadata": {},
   "outputs": [],
   "source": []
  },
  {
   "cell_type": "code",
   "execution_count": null,
   "id": "bd0de119",
   "metadata": {},
   "outputs": [],
   "source": []
  }
 ],
 "metadata": {
  "kernelspec": {
   "display_name": "Python 3 (ipykernel)",
   "language": "python",
   "name": "python3"
  },
  "language_info": {
   "codemirror_mode": {
    "name": "ipython",
    "version": 3
   },
   "file_extension": ".py",
   "mimetype": "text/x-python",
   "name": "python",
   "nbconvert_exporter": "python",
   "pygments_lexer": "ipython3",
   "version": "3.8.8"
  }
 },
 "nbformat": 4,
 "nbformat_minor": 5
}
